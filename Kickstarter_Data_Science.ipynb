{
 "cells": [
  {
   "cell_type": "markdown",
   "metadata": {
    "colab_type": "text",
    "id": "Er5m9TyuGG_h"
   },
   "source": [
    "\n",
    "\n",
    "\n",
    "## Analysing Kickstarter Data\n"
   ]
  },
  {
   "cell_type": "markdown",
   "metadata": {
    "colab_type": "text",
    "id": "A5iBnv3uGG_k"
   },
   "source": [
    "In this notebook I will be exploring data from Kickstarter crowdsourcing platform. I will be trying to answer the questions mentioned in my blog post.\n",
    "\n",
    ">**Note:**  This notebook requires python 3.7+."
   ]
  },
  {
   "cell_type": "markdown",
   "metadata": {
    "colab_type": "text",
    "id": "FZh6pUniGG_l"
   },
   "source": [
    "## Understatnding of the Bussiness\n",
    "\n",
    "Kickstarter is plaform in which a person or organization could create a project and set a fund goal for that project. After that, investor's, called backers, would invest and support that project for a certain award. Kickstarter has three main guideline that project creators need to follow. The guidelines are meant to reinforce that individuals are backing projects and not ordering products. Projects can be categorized into one of 13 categories and 36 subcategories.\n"
   ]
  },
  {
   "cell_type": "markdown",
   "metadata": {
    "colab_type": "text",
    "id": "KCAjrpa-GG_m"
   },
   "source": [
    "## Explore and Understand the Data\n",
    "The code below aims to explore and understatnd the data that we are working with."
   ]
  },
  {
   "cell_type": "code",
   "execution_count": 3,
   "metadata": {
    "colab": {
     "base_uri": "https://localhost:8080/",
     "height": 335
    },
    "colab_type": "code",
    "id": "z_9EgjKrGG_n",
    "outputId": "b3d831da-dab7-40e0-c5c0-8a5c1b3d6de6"
   },
   "outputs": [
    {
     "data": {
      "text/html": [
       "<div>\n",
       "<style scoped>\n",
       "    .dataframe tbody tr th:only-of-type {\n",
       "        vertical-align: middle;\n",
       "    }\n",
       "\n",
       "    .dataframe tbody tr th {\n",
       "        vertical-align: top;\n",
       "    }\n",
       "\n",
       "    .dataframe thead th {\n",
       "        text-align: right;\n",
       "    }\n",
       "</style>\n",
       "<table border=\"1\" class=\"dataframe\">\n",
       "  <thead>\n",
       "    <tr style=\"text-align: right;\">\n",
       "      <th></th>\n",
       "      <th>ID</th>\n",
       "      <th>name</th>\n",
       "      <th>category</th>\n",
       "      <th>main_category</th>\n",
       "      <th>currency</th>\n",
       "      <th>deadline</th>\n",
       "      <th>goal</th>\n",
       "      <th>launched</th>\n",
       "      <th>pledged</th>\n",
       "      <th>state</th>\n",
       "      <th>backers</th>\n",
       "      <th>country</th>\n",
       "      <th>usd pledged</th>\n",
       "      <th>usd_pledged_real</th>\n",
       "      <th>usd_goal_real</th>\n",
       "    </tr>\n",
       "  </thead>\n",
       "  <tbody>\n",
       "    <tr>\n",
       "      <th>0</th>\n",
       "      <td>1000002330</td>\n",
       "      <td>The Songs of Adelaide &amp; Abullah</td>\n",
       "      <td>Poetry</td>\n",
       "      <td>Publishing</td>\n",
       "      <td>GBP</td>\n",
       "      <td>2015-10-09</td>\n",
       "      <td>1000.0</td>\n",
       "      <td>2015-08-11 12:12:28</td>\n",
       "      <td>0.0</td>\n",
       "      <td>failed</td>\n",
       "      <td>0</td>\n",
       "      <td>GB</td>\n",
       "      <td>0.0</td>\n",
       "      <td>0.0</td>\n",
       "      <td>1533.95</td>\n",
       "    </tr>\n",
       "    <tr>\n",
       "      <th>1</th>\n",
       "      <td>1000003930</td>\n",
       "      <td>Greeting From Earth: ZGAC Arts Capsule For ET</td>\n",
       "      <td>Narrative Film</td>\n",
       "      <td>Film &amp; Video</td>\n",
       "      <td>USD</td>\n",
       "      <td>2017-11-01</td>\n",
       "      <td>30000.0</td>\n",
       "      <td>2017-09-02 04:43:57</td>\n",
       "      <td>2421.0</td>\n",
       "      <td>failed</td>\n",
       "      <td>15</td>\n",
       "      <td>US</td>\n",
       "      <td>100.0</td>\n",
       "      <td>2421.0</td>\n",
       "      <td>30000.00</td>\n",
       "    </tr>\n",
       "  </tbody>\n",
       "</table>\n",
       "</div>"
      ],
      "text/plain": [
       "           ID                                           name        category  \\\n",
       "0  1000002330                The Songs of Adelaide & Abullah          Poetry   \n",
       "1  1000003930  Greeting From Earth: ZGAC Arts Capsule For ET  Narrative Film   \n",
       "\n",
       "  main_category currency    deadline     goal             launched  pledged  \\\n",
       "0    Publishing      GBP  2015-10-09   1000.0  2015-08-11 12:12:28      0.0   \n",
       "1  Film & Video      USD  2017-11-01  30000.0  2017-09-02 04:43:57   2421.0   \n",
       "\n",
       "    state  backers country  usd pledged  usd_pledged_real  usd_goal_real  \n",
       "0  failed        0      GB          0.0               0.0        1533.95  \n",
       "1  failed       15      US        100.0            2421.0       30000.00  "
      ]
     },
     "metadata": {},
     "output_type": "display_data"
    }
   ],
   "source": [
    "# Import libraries necessary for this project\n",
    "import numpy as np\n",
    "import pandas as pd\n",
    "from time import time\n",
    "from IPython.display import display # Allows the use of display() for DataFrames\n",
    "import visuals as vs\n",
    "from datetime import datetime\n",
    "\n",
    "\n",
    "\n",
    "# Pretty display for notebooks\n",
    "%matplotlib inline\n",
    "\n",
    "# Load the Census dataset\n",
    "df = pd.read_csv(\"KS2018.csv\")\n",
    "\n",
    "# Success - Display the first 5 records\n",
    "display(df.head(n=2))\n"
   ]
  },
  {
   "cell_type": "code",
   "execution_count": 4,
   "metadata": {
    "colab": {
     "base_uri": "https://localhost:8080/",
     "height": 289
    },
    "colab_type": "code",
    "id": "SyReJAu_RoH8",
    "outputId": "d0e2bc5f-5e00-4fa5-bf9c-4b0128ccca64"
   },
   "outputs": [
    {
     "name": "stdout",
     "output_type": "stream",
     "text": [
      "The count of the uniques values in each column are\n",
      "ID = 378661\n",
      "name = 375765\n",
      "category = 159\n",
      "main_category = 15\n",
      "currency = 14\n",
      "deadline = 3164\n",
      "goal = 8353\n",
      "launched = 378089\n",
      "pledged = 62130\n",
      "state = 6\n",
      "backers = 3963\n",
      "country = 23\n",
      "usd pledged = 95456\n",
      "usd_pledged_real = 106065\n",
      "usd_goal_real = 50339\n"
     ]
    }
   ],
   "source": [
    "print (\"The count of the uniques values in each column are\")\n",
    "for col in df:\n",
    "    print(col + \" = \" + str(df[col].unique().size))"
   ]
  },
  {
   "cell_type": "markdown",
   "metadata": {
    "colab_type": "text",
    "id": "QFOHly2gvti1"
   },
   "source": [
    "### Understand the columns\n",
    " each of the coulmns in the data set has a unique meaning:\n",
    "\n",
    "*   ID: Unique ID for each project\n",
    "*   Name: Name of the project\n",
    "*    Category: The subcategory of project\n",
    "* Main Category: The main category of the project\n",
    "* Currency: The currency of the set goal\n",
    "* Deadline: The deadline date for \n",
    "* Goal: The amount of money that a creator needs to complete their project\n",
    "* Launched: The date the project was launched\n",
    "* Pledged: The amount of money people pledged to this project \n",
    "* State: The state of the project can be one of either\n",
    "  - Failed\n",
    "  - Canceled\n",
    "  - Successful\n",
    "  - Live\n",
    "  - Undefined\n",
    "  - Suspended\n",
    "* Backers: Number of people of who pledged money to the project\n",
    "* Country: The country where the project is created\n",
    "* USD pledged: The amount of money pledged converted to USD by Kickstarter conversions\n",
    "* USD pledged real: The amount of money pledged converted to USD by 3rd party tool.\n",
    "* USD goal real: The amount of money the creator needs converted to USD by 3rd party tool."
   ]
  },
  {
   "cell_type": "markdown",
   "metadata": {
    "colab_type": "text",
    "id": "p3fQRDOwtNy1"
   },
   "source": [
    "## Prepare the Data\n",
    "\n",
    "### Remove unnecessary columns\n",
    "\n",
    "The first step in preparing our data is dropping the columns that are not needed.\n",
    "\n",
    "The following columns will be dropped as they are unique to the project and will skew our analysis when trying to predict the success or failure of the project\n",
    "* ID\n",
    "* Name\n",
    "* Goal\n",
    "* Pledged\n",
    "* USD Pledged\n",
    "* USD Pledged Real\n",
    "* USD Goal Real\n",
    "* Backers"
   ]
  },
  {
   "cell_type": "code",
   "execution_count": 5,
   "metadata": {
    "colab": {
     "base_uri": "https://localhost:8080/",
     "height": 111
    },
    "colab_type": "code",
    "id": "FPez6n08KC1R",
    "outputId": "619d8137-7341-4818-b644-9040f9bb1581"
   },
   "outputs": [
    {
     "data": {
      "text/html": [
       "<div>\n",
       "<style scoped>\n",
       "    .dataframe tbody tr th:only-of-type {\n",
       "        vertical-align: middle;\n",
       "    }\n",
       "\n",
       "    .dataframe tbody tr th {\n",
       "        vertical-align: top;\n",
       "    }\n",
       "\n",
       "    .dataframe thead th {\n",
       "        text-align: right;\n",
       "    }\n",
       "</style>\n",
       "<table border=\"1\" class=\"dataframe\">\n",
       "  <thead>\n",
       "    <tr style=\"text-align: right;\">\n",
       "      <th></th>\n",
       "      <th>category</th>\n",
       "      <th>main_category</th>\n",
       "      <th>currency</th>\n",
       "      <th>deadline</th>\n",
       "      <th>launched</th>\n",
       "      <th>state</th>\n",
       "      <th>country</th>\n",
       "    </tr>\n",
       "  </thead>\n",
       "  <tbody>\n",
       "    <tr>\n",
       "      <th>0</th>\n",
       "      <td>Poetry</td>\n",
       "      <td>Publishing</td>\n",
       "      <td>GBP</td>\n",
       "      <td>2015-10-09</td>\n",
       "      <td>2015-08-11 12:12:28</td>\n",
       "      <td>failed</td>\n",
       "      <td>GB</td>\n",
       "    </tr>\n",
       "    <tr>\n",
       "      <th>1</th>\n",
       "      <td>Narrative Film</td>\n",
       "      <td>Film &amp; Video</td>\n",
       "      <td>USD</td>\n",
       "      <td>2017-11-01</td>\n",
       "      <td>2017-09-02 04:43:57</td>\n",
       "      <td>failed</td>\n",
       "      <td>US</td>\n",
       "    </tr>\n",
       "  </tbody>\n",
       "</table>\n",
       "</div>"
      ],
      "text/plain": [
       "         category main_category currency    deadline             launched  \\\n",
       "0          Poetry    Publishing      GBP  2015-10-09  2015-08-11 12:12:28   \n",
       "1  Narrative Film  Film & Video      USD  2017-11-01  2017-09-02 04:43:57   \n",
       "\n",
       "    state country  \n",
       "0  failed      GB  \n",
       "1  failed      US  "
      ]
     },
     "execution_count": 5,
     "metadata": {},
     "output_type": "execute_result"
    }
   ],
   "source": [
    "\n",
    "features_raw = df.drop('ID', axis = 1)\n",
    "features_raw.drop('name', axis = 1, inplace=True)\n",
    "features_raw.drop('goal', axis = 1, inplace=True)\n",
    "features_raw.drop('pledged', axis = 1, inplace=True)\n",
    "features_raw.drop('backers', axis = 1, inplace=True)\n",
    "features_raw.drop('usd pledged', axis = 1, inplace=True)\n",
    "features_raw.drop('usd_pledged_real', axis = 1, inplace=True)\n",
    "features_raw.drop('usd_goal_real', axis = 1, inplace=True)\n",
    "\n",
    "\n",
    "features_raw.head(n=2)"
   ]
  },
  {
   "cell_type": "markdown",
   "metadata": {
    "colab_type": "text",
    "id": "rxgzxKP26e3a"
   },
   "source": [
    "### Remove unnecessary rows\n",
    "\n",
    "Projects can have one of six states:\n",
    "  - Failed\n",
    "  - Canceled\n",
    "  - Successful\n",
    "  - Live\n",
    "  - Undefined\n",
    "  - Suspended\n",
    "  \n",
    "  We will remove projects with Live or Undefined state as we cannot conclude anything about the success or failure of the project.\n",
    "  \n",
    "  As for the Failed, Cacelled, or Suspended projects we will consider them all failures.\n",
    "  Only the Successful status will be considered as a successful project.\n",
    "\n"
   ]
  },
  {
   "cell_type": "code",
   "execution_count": 6,
   "metadata": {
    "colab": {},
    "colab_type": "code",
    "id": "nbmM8nzN5lIa"
   },
   "outputs": [],
   "source": [
    "features_raw.drop( features_raw[ features_raw['state'] == 'live' ].index , inplace=True)\n",
    "features_raw.drop( features_raw[ features_raw['state'] == 'undefined' ].index , inplace=True)"
   ]
  },
  {
   "cell_type": "code",
   "execution_count": 7,
   "metadata": {
    "colab": {
     "base_uri": "https://localhost:8080/",
     "height": 34
    },
    "colab_type": "code",
    "id": "5kDuWECI5_Gu",
    "outputId": "8d243ebc-8e4e-4032-f906-329b9f1cf9e1"
   },
   "outputs": [
    {
     "data": {
      "text/plain": [
       "(372300, 7)"
      ]
     },
     "execution_count": 7,
     "metadata": {},
     "output_type": "execute_result"
    }
   ],
   "source": [
    "features_raw.shape"
   ]
  },
  {
   "cell_type": "markdown",
   "metadata": {
    "colab_type": "text",
    "id": "hVjFfQLb7ZsF"
   },
   "source": [
    "After dorpping all of the unnecessary columns and rows we are left with 7 columns and 372300 rows."
   ]
  },
  {
   "cell_type": "markdown",
   "metadata": {
    "colab_type": "text",
    "id": "OrbF8j6t2ly3"
   },
   "source": [
    "### Compute campaign length\n",
    "Additionally we would like to compute the number of days between the begining of the project till the end.\n",
    "However, fisrt we need to split the launch column into date and time."
   ]
  },
  {
   "cell_type": "code",
   "execution_count": 8,
   "metadata": {
    "colab": {
     "base_uri": "https://localhost:8080/",
     "height": 111
    },
    "colab_type": "code",
    "id": "JgWrzEmuKPqb",
    "outputId": "640e61a1-9b1a-4ea8-abb3-a376de227889"
   },
   "outputs": [
    {
     "data": {
      "text/html": [
       "<div>\n",
       "<style scoped>\n",
       "    .dataframe tbody tr th:only-of-type {\n",
       "        vertical-align: middle;\n",
       "    }\n",
       "\n",
       "    .dataframe tbody tr th {\n",
       "        vertical-align: top;\n",
       "    }\n",
       "\n",
       "    .dataframe thead th {\n",
       "        text-align: right;\n",
       "    }\n",
       "</style>\n",
       "<table border=\"1\" class=\"dataframe\">\n",
       "  <thead>\n",
       "    <tr style=\"text-align: right;\">\n",
       "      <th></th>\n",
       "      <th>category</th>\n",
       "      <th>main_category</th>\n",
       "      <th>currency</th>\n",
       "      <th>deadline</th>\n",
       "      <th>launched</th>\n",
       "      <th>state</th>\n",
       "      <th>country</th>\n",
       "      <th>lDate</th>\n",
       "      <th>lTime</th>\n",
       "    </tr>\n",
       "  </thead>\n",
       "  <tbody>\n",
       "    <tr>\n",
       "      <th>0</th>\n",
       "      <td>Poetry</td>\n",
       "      <td>Publishing</td>\n",
       "      <td>GBP</td>\n",
       "      <td>2015-10-09</td>\n",
       "      <td>2015-08-11 12:12:28</td>\n",
       "      <td>failed</td>\n",
       "      <td>GB</td>\n",
       "      <td>2015-08-11</td>\n",
       "      <td>12:12:28</td>\n",
       "    </tr>\n",
       "    <tr>\n",
       "      <th>1</th>\n",
       "      <td>Narrative Film</td>\n",
       "      <td>Film &amp; Video</td>\n",
       "      <td>USD</td>\n",
       "      <td>2017-11-01</td>\n",
       "      <td>2017-09-02 04:43:57</td>\n",
       "      <td>failed</td>\n",
       "      <td>US</td>\n",
       "      <td>2017-09-02</td>\n",
       "      <td>04:43:57</td>\n",
       "    </tr>\n",
       "  </tbody>\n",
       "</table>\n",
       "</div>"
      ],
      "text/plain": [
       "         category main_category currency    deadline             launched  \\\n",
       "0          Poetry    Publishing      GBP  2015-10-09  2015-08-11 12:12:28   \n",
       "1  Narrative Film  Film & Video      USD  2017-11-01  2017-09-02 04:43:57   \n",
       "\n",
       "    state country       lDate     lTime  \n",
       "0  failed      GB  2015-08-11  12:12:28  \n",
       "1  failed      US  2017-09-02  04:43:57  "
      ]
     },
     "execution_count": 8,
     "metadata": {},
     "output_type": "execute_result"
    }
   ],
   "source": [
    "features_raw[['lDate','lTime']] = features_raw.launched.str.split(expand=True,)\n",
    "\n",
    "features_raw.head(n=2)\n"
   ]
  },
  {
   "cell_type": "code",
   "execution_count": 9,
   "metadata": {
    "colab": {},
    "colab_type": "code",
    "id": "FxVAiVqz3CsF"
   },
   "outputs": [],
   "source": [
    "features_raw.drop('launched', axis = 1, inplace=True)"
   ]
  },
  {
   "cell_type": "markdown",
   "metadata": {
    "colab_type": "text",
    "id": "EivInMFbGG_t"
   },
   "source": [
    "Next we would like to compute the length of the campaign in days. "
   ]
  },
  {
   "cell_type": "code",
   "execution_count": 10,
   "metadata": {
    "colab": {
     "base_uri": "https://localhost:8080/",
     "height": 111
    },
    "colab_type": "code",
    "id": "hodmtIAYNf7I",
    "outputId": "3dabd703-48ee-4247-f43c-2f41e08fb882"
   },
   "outputs": [
    {
     "data": {
      "text/html": [
       "<div>\n",
       "<style scoped>\n",
       "    .dataframe tbody tr th:only-of-type {\n",
       "        vertical-align: middle;\n",
       "    }\n",
       "\n",
       "    .dataframe tbody tr th {\n",
       "        vertical-align: top;\n",
       "    }\n",
       "\n",
       "    .dataframe thead th {\n",
       "        text-align: right;\n",
       "    }\n",
       "</style>\n",
       "<table border=\"1\" class=\"dataframe\">\n",
       "  <thead>\n",
       "    <tr style=\"text-align: right;\">\n",
       "      <th></th>\n",
       "      <th>category</th>\n",
       "      <th>main_category</th>\n",
       "      <th>currency</th>\n",
       "      <th>deadline</th>\n",
       "      <th>state</th>\n",
       "      <th>country</th>\n",
       "      <th>lDate</th>\n",
       "      <th>lTime</th>\n",
       "      <th>days</th>\n",
       "    </tr>\n",
       "  </thead>\n",
       "  <tbody>\n",
       "    <tr>\n",
       "      <th>0</th>\n",
       "      <td>Poetry</td>\n",
       "      <td>Publishing</td>\n",
       "      <td>GBP</td>\n",
       "      <td>2015-10-09</td>\n",
       "      <td>failed</td>\n",
       "      <td>GB</td>\n",
       "      <td>2015-08-11</td>\n",
       "      <td>12:12:28</td>\n",
       "      <td>59</td>\n",
       "    </tr>\n",
       "    <tr>\n",
       "      <th>1</th>\n",
       "      <td>Narrative Film</td>\n",
       "      <td>Film &amp; Video</td>\n",
       "      <td>USD</td>\n",
       "      <td>2017-11-01</td>\n",
       "      <td>failed</td>\n",
       "      <td>US</td>\n",
       "      <td>2017-09-02</td>\n",
       "      <td>04:43:57</td>\n",
       "      <td>60</td>\n",
       "    </tr>\n",
       "  </tbody>\n",
       "</table>\n",
       "</div>"
      ],
      "text/plain": [
       "         category main_category currency   deadline   state country  \\\n",
       "0          Poetry    Publishing      GBP 2015-10-09  failed      GB   \n",
       "1  Narrative Film  Film & Video      USD 2017-11-01  failed      US   \n",
       "\n",
       "       lDate     lTime  days  \n",
       "0 2015-08-11  12:12:28    59  \n",
       "1 2017-09-02  04:43:57    60  "
      ]
     },
     "execution_count": 10,
     "metadata": {},
     "output_type": "execute_result"
    }
   ],
   "source": [
    "features_raw['deadline'] = pd.to_datetime(features_raw['deadline'])\n",
    "features_raw['lDate'] = pd.to_datetime(features_raw['lDate'])\n",
    "features_raw['days'] = (features_raw['deadline'] - features_raw['lDate']).dt.days\n",
    "\n",
    "features_raw.head(n=2)"
   ]
  },
  {
   "cell_type": "code",
   "execution_count": 11,
   "metadata": {
    "colab": {},
    "colab_type": "code",
    "id": "Oroe8ko_3oSK"
   },
   "outputs": [],
   "source": [
    "features_raw.drop('deadline', axis = 1, inplace=True)\n",
    "features_raw.drop('lDate', axis = 1, inplace=True)\n",
    "features_raw.drop('lTime', axis = 1, inplace=True)"
   ]
  },
  {
   "cell_type": "markdown",
   "metadata": {
    "colab_type": "text",
    "id": "R39yPfo5GG_5"
   },
   "source": [
    "### Normalize Numerical Features\n",
    "We would like to normalize each numerical feature. In this project we only have one numerical feature (days) \n",
    "We will use [`sklearn.preprocessing.MinMaxScaler`](http://scikit-learn.org/stable/modules/generated/sklearn.preprocessing.MinMaxScaler.html) for this."
   ]
  },
  {
   "cell_type": "code",
   "execution_count": 12,
   "metadata": {
    "colab": {
     "base_uri": "https://localhost:8080/",
     "height": 111
    },
    "colab_type": "code",
    "id": "3UQnO-9eGG_6",
    "outputId": "b45cd02c-bad4-4ffa-a0be-fc8c39c7f5f0"
   },
   "outputs": [
    {
     "data": {
      "text/html": [
       "<div>\n",
       "<style scoped>\n",
       "    .dataframe tbody tr th:only-of-type {\n",
       "        vertical-align: middle;\n",
       "    }\n",
       "\n",
       "    .dataframe tbody tr th {\n",
       "        vertical-align: top;\n",
       "    }\n",
       "\n",
       "    .dataframe thead th {\n",
       "        text-align: right;\n",
       "    }\n",
       "</style>\n",
       "<table border=\"1\" class=\"dataframe\">\n",
       "  <thead>\n",
       "    <tr style=\"text-align: right;\">\n",
       "      <th></th>\n",
       "      <th>category</th>\n",
       "      <th>main_category</th>\n",
       "      <th>currency</th>\n",
       "      <th>state</th>\n",
       "      <th>country</th>\n",
       "      <th>days</th>\n",
       "    </tr>\n",
       "  </thead>\n",
       "  <tbody>\n",
       "    <tr>\n",
       "      <th>0</th>\n",
       "      <td>Poetry</td>\n",
       "      <td>Publishing</td>\n",
       "      <td>GBP</td>\n",
       "      <td>failed</td>\n",
       "      <td>GB</td>\n",
       "      <td>0.003465</td>\n",
       "    </tr>\n",
       "    <tr>\n",
       "      <th>1</th>\n",
       "      <td>Narrative Film</td>\n",
       "      <td>Film &amp; Video</td>\n",
       "      <td>USD</td>\n",
       "      <td>failed</td>\n",
       "      <td>US</td>\n",
       "      <td>0.003525</td>\n",
       "    </tr>\n",
       "  </tbody>\n",
       "</table>\n",
       "</div>"
      ],
      "text/plain": [
       "         category main_category currency   state country      days\n",
       "0          Poetry    Publishing      GBP  failed      GB  0.003465\n",
       "1  Narrative Film  Film & Video      USD  failed      US  0.003525"
      ]
     },
     "metadata": {},
     "output_type": "display_data"
    }
   ],
   "source": [
    "# Import sklearn.preprocessing.StandardScaler\n",
    "from sklearn.preprocessing import MinMaxScaler\n",
    "\n",
    "# Initialize a scaler, then apply it to the features\n",
    "scaler = MinMaxScaler() # default=(0, 1)\n",
    "numerical = ['days']\n",
    "\n",
    "features_log_minmax_transform = pd.DataFrame(data = features_raw)\n",
    "features_log_minmax_transform[numerical] = scaler.fit_transform(features_raw[numerical])\n",
    "\n",
    "# Show an example of a record with scaling applied\n",
    "display(features_log_minmax_transform.head(n = 2))"
   ]
  },
  {
   "cell_type": "markdown",
   "metadata": {
    "colab_type": "text",
    "id": "dliF001vGG_9"
   },
   "source": [
    "### Encode all categorical variables\n",
    "\n",
    "We would like to encode all categorical variables using one-hot encoding scheme. One-hot encoding creates a _\"dummy\"_ variable for each possible category of each non-numeric feature.\n",
    "\n",
    "We will use [`pandas.get_dummies()`](http://pandas.pydata.org/pandas-docs/stable/generated/pandas.get_dummies.html?highlight=get_dummies#pandas.get_dummies) to perform one-hot encoding on the `'features_log_minmax_transform'` data.\n",
    " "
   ]
  },
  {
   "cell_type": "code",
   "execution_count": 13,
   "metadata": {
    "colab": {
     "base_uri": "https://localhost:8080/",
     "height": 34
    },
    "colab_type": "code",
    "id": "n_c27FGeGG_9",
    "outputId": "7fcbc7a2-b2ce-4e3a-92cb-070314332520",
    "scrolled": true
   },
   "outputs": [
    {
     "name": "stdout",
     "output_type": "stream",
     "text": [
      "213 total features after one-hot encoding.\n"
     ]
    }
   ],
   "source": [
    "# One-hot encode the 'features_log_minmax_transform' data using pandas.get_dummies()\n",
    "features_final = pd.get_dummies(features_log_minmax_transform,columns=['category','main_category', 'currency', 'country'])\n",
    "\n",
    "encoded = list(features_final.columns)\n",
    "print(\"{} total features after one-hot encoding.\".format(len(encoded)))\n"
   ]
  },
  {
   "cell_type": "markdown",
   "metadata": {
    "colab_type": "text",
    "id": "IcYZbsUW8VWX"
   },
   "source": [
    "### Extract and Encode the Data Labels\n",
    "Below we will extract the state which is our data label to a new dataframe. Then we will encode the successful state to 1 and other states to 0."
   ]
  },
  {
   "cell_type": "code",
   "execution_count": 14,
   "metadata": {
    "colab": {
     "base_uri": "https://localhost:8080/",
     "height": 68
    },
    "colab_type": "code",
    "id": "GAJmVxGt8mJi",
    "outputId": "90eb8483-668b-4a4f-8f89-2095ad79da1f"
   },
   "outputs": [
    {
     "data": {
      "text/plain": [
       "0    0\n",
       "1    0\n",
       "Name: state, dtype: int64"
      ]
     },
     "execution_count": 14,
     "metadata": {},
     "output_type": "execute_result"
    }
   ],
   "source": [
    "\n",
    "state = features_final['state']\n",
    "features_final.drop('state',axis=1,inplace=True)\n",
    "\n",
    "state = state.apply(lambda x: 1 if x == 'successful' else 0 )\n",
    "\n",
    "state.head(n=2)"
   ]
  },
  {
   "cell_type": "markdown",
   "metadata": {
    "colab_type": "text",
    "id": "1HUxTIiDGHAA"
   },
   "source": [
    "### Shuffle and Split Data\n",
    "Now all _categorical variables_ have been converted into numerical features, and all numerical features have been normalized. As always, we will now split the data (both features and their labels) into training and test sets. 80% of the data will be used for training and 20% for testing.\n"
   ]
  },
  {
   "cell_type": "code",
   "execution_count": 15,
   "metadata": {
    "colab": {
     "base_uri": "https://localhost:8080/",
     "height": 51
    },
    "colab_type": "code",
    "id": "PI9AwkJCGHAB",
    "outputId": "87610cd1-5ada-4aa7-f723-3237af64e57e"
   },
   "outputs": [
    {
     "name": "stdout",
     "output_type": "stream",
     "text": [
      "Training set has 297840 samples.\n",
      "Testing set has 74460 samples.\n"
     ]
    }
   ],
   "source": [
    "# Import train_test_split\n",
    "from sklearn.model_selection import train_test_split\n",
    "\n",
    "# Split the 'features' and 'income' data into training and testing sets\n",
    "X_train, X_test, y_train, y_test = train_test_split(features_final,\n",
    "                                                    state,\n",
    "                                                    test_size = 0.2, \n",
    "                                                    random_state = 0)\n",
    "\n",
    "# Show the results of the split\n",
    "print(\"Training set has {} samples.\".format(X_train.shape[0]))\n",
    "print(\"Testing set has {} samples.\".format(X_test.shape[0]))"
   ]
  },
  {
   "cell_type": "markdown",
   "metadata": {
    "colab_type": "text",
    "id": "CWDl9sd1GHAD"
   },
   "source": [
    "----\n",
    "## Modling and Evaluating Model Performance\n",
    "In this section, we will investigate two differnt supervised learners and evaluate their performance in predict the success or failure of a project. Moreover, we will evaluate the model's performance using 1% of the data, 10% of the data, 100% of the data.\n"
   ]
  },
  {
   "cell_type": "markdown",
   "metadata": {
    "colab_type": "text",
    "id": "Xeyk8lKgGHAL"
   },
   "source": [
    "### Two supervised learners\n",
    "1. Decision Trees \n",
    " + Strenghths: Minimal data preparation, and suitable for both categorical and numerical data!\n",
    " + Weaknesses: Over-complex trees do not generalise the data well, and learning an optimal decision tree is known to be NP-complete!\n",
    " + Why this Model: Descision Trees tend to perform well at binary classifiication.\n",
    " + [`Reference1`](https://scikit-learn.org/stable/modules/tree.html)\n",
    " + [`Reference2`](https%3A%2F%2Fbooksite.elsevier.com%2F9780124438804%2Fleondes_expert_vol1_ch3.pdf&usg=AOvVaw2I_dUwcITKT-i_yi8iChLC)\n",
    "  \n",
    " \n",
    " \n",
    "2. Random Forest (Ensemble Method)\n",
    " + Strenghths: Random Forests and Ensemble Methods generalize better that single esitmators (e.g. Decsion Trees)\n",
    " + Weaknesses: Random Forests might overfit if the data is noisy.\n",
    " + Why this Model: Random Forests is expected to overcome the overfitting limitation of decsion trees (our first model)\n",
    " + [`Reference1`](https://scikit-learn.org/stable/modules/ensemble.html#forests-of-randomized-trees)\n",
    " + [`Reference2`](http://blog.citizennet.com/blog/2012/11/10/random-forests-ensembles-and-performance-metrics)\n",
    " + [`Reference3`](https%3A%2F%2Fwww.ncbi.nlm.nih.gov%2Fpmc%2Farticles%2FPMC4062420%2F&usg=AOvVaw1VQtVvD6EmyvewEpSR1TMI)\n",
    " "
   ]
  },
  {
   "cell_type": "code",
   "execution_count": 16,
   "metadata": {
    "colab": {},
    "colab_type": "code",
    "id": "bGCdUn4S_sYK"
   },
   "outputs": [],
   "source": [
    "\n",
    "TP = np.sum(state)\n",
    "FP = state.count() - TP\n",
    "FN = TN = 0\n",
    "Tot = len(state)\n",
    "# TODO: Calculate accuracy, precision and recall\n",
    "accuracy = TP/Tot\n",
    "recall = TP/(TP+FN)\n",
    "precision = TP/(TP+FP)\n",
    "\n",
    "# TODO: Calculate F-score using the formula above for beta = 0.5 and correct values for precision and recall.\n",
    "B2 = 0.5*0.5\n",
    "fscore = ((1 + B2) * (precision*recall) / ((B2*precision) + recall))"
   ]
  },
  {
   "cell_type": "code",
   "execution_count": 17,
   "metadata": {
    "colab": {},
    "colab_type": "code",
    "id": "rkqb30OhGHAN"
   },
   "outputs": [],
   "source": [
    "# Import two metrics from sklearn - fbeta_score and accuracy_score\n",
    "from sklearn.metrics import fbeta_score, accuracy_score\n",
    "\n",
    "def train_predict(learner, sample_size, X_train, y_train, X_test, y_test): \n",
    "    '''\n",
    "    inputs:\n",
    "       - learner: the learning algorithm to be trained and predicted on\n",
    "       - sample_size: the size of samples (number) to be drawn from training set\n",
    "       - X_train: features training set\n",
    "       - y_train: income training set\n",
    "       - X_test: features testing set\n",
    "       - y_test: income testing set\n",
    "    '''\n",
    "    \n",
    "    results = {}\n",
    "    \n",
    "    # TODO: Fit the learner to the training data using slicing with 'sample_size' using .fit(training_features[:], training_labels[:])\n",
    "    start = time() # Get start time\n",
    "    learner = learner.fit(X_train[:sample_size],y_train[:sample_size])\n",
    "    end = time() # Get end time\n",
    "    \n",
    "    # TODO: Calculate the training time\n",
    "    results['train_time'] = end - start\n",
    "        \n",
    "    # TODO: Get the predictions on the test set(X_test),\n",
    "    #       then get predictions on the first 300 training samples(X_train) using .predict()\n",
    "    start = time() # Get start time\n",
    "    predictions_test = learner.predict(X_test)\n",
    "    predictions_train = learner.predict(X_train[:300])\n",
    "    end = time() # Get end time\n",
    "    \n",
    "    # TODO: Calculate the total prediction time\n",
    "    results['pred_time'] = end - start\n",
    "            \n",
    "    # TODO: Compute accuracy on the first 300 training samples which is y_train[:300]\n",
    "    results['acc_train'] = accuracy_score(y_train[:300],predictions_train)\n",
    "        \n",
    "    # TODO: Compute accuracy on test set using accuracy_score()\n",
    "    results['acc_test'] = accuracy_score(y_test,predictions_test)\n",
    "    \n",
    "    # TODO: Compute F-score on the the first 300 training samples using fbeta_score()\n",
    "    results['f_train'] = fbeta_score(y_train[:300],predictions_train,0.5)\n",
    "        \n",
    "    # TODO: Compute F-score on the test set which is y_test\n",
    "    results['f_test'] = fbeta_score(y_test,predictions_test,0.5)\n",
    "       \n",
    "    # Success\n",
    "    print(\"{} trained on {} samples.\".format(learner.__class__.__name__, sample_size))\n",
    "        \n",
    "    # Return the results\n",
    "    return results"
   ]
  },
  {
   "cell_type": "code",
   "execution_count": 18,
   "metadata": {
    "colab": {
     "base_uri": "https://localhost:8080/",
     "height": 760
    },
    "colab_type": "code",
    "id": "u3smuWogGHAQ",
    "outputId": "4abf8f30-274b-4939-f50c-3c2326400409"
   },
   "outputs": [
    {
     "name": "stdout",
     "output_type": "stream",
     "text": [
      "DecisionTreeClassifier trained on 2978 samples.\n",
      "DecisionTreeClassifier trained on 29784 samples.\n",
      "DecisionTreeClassifier trained on 297840 samples.\n",
      "RandomForestClassifier trained on 2978 samples.\n",
      "RandomForestClassifier trained on 29784 samples.\n",
      "RandomForestClassifier trained on 297840 samples.\n",
      "AdaBoostClassifier trained on 2978 samples.\n",
      "AdaBoostClassifier trained on 29784 samples.\n",
      "AdaBoostClassifier trained on 297840 samples.\n"
     ]
    },
    {
     "data": {
      "image/png": "[encoded data removed]",
      "text/plain": [
       "<matplotlib.figure.Figure at 0x7fe8c7172fd0>"
      ]
     },
     "metadata": {
      "needs_background": "light"
     },
     "output_type": "display_data"
    }
   ],
   "source": [
    "# Import the  supervised learning models from sklearn\n",
    "from sklearn.tree import DecisionTreeClassifier\n",
    "from sklearn.ensemble import RandomForestClassifier, AdaBoostClassifier\n",
    "\n",
    "\n",
    "# Initialize the models\n",
    "clf_A = DecisionTreeClassifier(random_state = 1)\n",
    "clf_B = RandomForestClassifier(random_state = 1)\n",
    "clf_C = AdaBoostClassifier(random_state = 1)\n",
    "\n",
    "# Calculate the number of samples for 1%, 10%, and 100% of the training data\n",
    "\n",
    "samples_100 = len(y_train)\n",
    "samples_10 = int(len(y_train)*0.1)\n",
    "samples_1 = int(len(y_train)*0.01)\n",
    "\n",
    "# Collect results on the learners\n",
    "results = {}\n",
    "for clf in [clf_A, clf_B, clf_C]:\n",
    "    clf_name = clf.__class__.__name__\n",
    "    results[clf_name] = {}\n",
    "    for i, samples in enumerate([samples_1, samples_10, samples_100]):\n",
    "        results[clf_name][i] = \\\n",
    "        train_predict(clf, samples, X_train, y_train, X_test, y_test)\n",
    "\n",
    "# Run metrics visualization for the three supervised learning models chosen\n",
    "vs.evaluate(results, accuracy, fscore)"
   ]
  },
  {
   "cell_type": "markdown",
   "metadata": {
    "colab_type": "text",
    "id": "AIBW7-cLGHAX"
   },
   "source": [
    "### Implementation: Model Tuning\n",
    "We fine tune the best model `AdaBoost`using grid search \n",
    " [`sklearn.grid_search.GridSearchCV`](http://scikit-learn.org/0.17/modules/generated/sklearn.grid_search.GridSearchCV.html) "
   ]
  },
  {
   "cell_type": "code",
   "execution_count": 19,
   "metadata": {
    "colab": {
     "base_uri": "https://localhost:8080/",
     "height": 71
    },
    "colab_type": "code",
    "id": "9xDntAB3GHAY",
    "outputId": "55da844f-d499-445e-934e-eb3421ec5b99"
   },
   "outputs": [
    {
     "name": "stdout",
     "output_type": "stream",
     "text": [
      "Unoptimized model\n",
      "------\n",
      "Accuracy score on testing data: 0.6789\n",
      "F-score on testing data: 0.5227\n",
      "\n",
      "Optimized Model\n",
      "------\n",
      "Final accuracy score on the testing data: 0.6795\n",
      "Final F-score on the testing data: 0.5256\n"
     ]
    }
   ],
   "source": [
    "# Import 'GridSearchCV', 'make_scorer'\n",
    "from sklearn.model_selection import GridSearchCV\n",
    "from sklearn.metrics import make_scorer\n",
    "\n",
    "# Initialize the classifier\n",
    "clf = AdaBoostClassifier(random_state = 1)\n",
    "\n",
    "\n",
    "parameters = { \"n_estimators\"      : [50,75]}\n",
    "\n",
    "# Make an fbeta_score scoring object using make_scorer()\n",
    "scorer = make_scorer(fbeta_score, beta=0.5)\n",
    "\n",
    "# Perform grid search on the classifier using 'scorer' as the scoring method using GridSearchCV()\n",
    "grid_obj = GridSearchCV(clf, parameters, scoring=scorer )\n",
    "\n",
    "# Fit the grid search object to the training data and find the optimal parameters using fit()\n",
    "grid_fit = grid_obj.fit(X_train, y_train)\n",
    "\n",
    "# Get the estimator\n",
    "best_clf = grid_fit.best_estimator_\n",
    "\n",
    "# Make predictions using the unoptimized and model\n",
    "predictions = (clf.fit(X_train, y_train)).predict(X_test)\n",
    "best_predictions = best_clf.predict(X_test)\n",
    "\n",
    "# Report the before-and-afterscores\n",
    "print(\"Unoptimized model\\n------\")\n",
    "print(\"Accuracy score on testing data: {:.4f}\".format(accuracy_score(y_test, predictions)))\n",
    "print(\"F-score on testing data: {:.4f}\".format(fbeta_score(y_test, predictions, beta = 0.5)))\n",
    "print(\"\\nOptimized Model\\n------\")\n",
    "print(\"Final accuracy score on the testing data: {:.4f}\".format(accuracy_score(y_test, best_predictions)))\n",
    "print(\"Final F-score on the testing data: {:.4f}\".format(fbeta_score(y_test, best_predictions, beta = 0.5)))"
   ]
  },
  {
   "cell_type": "markdown",
   "metadata": {
    "colab_type": "text",
    "id": "rQtU7hRfGHAb"
   },
   "source": [
    "#### Results:\n",
    "\n",
    "|     Metric     | Unoptimized Model | Optimized Model |\n",
    "| :------------: | :---------------: | :-------------: | \n",
    "| Accuracy Score |  0.6789    |     0.6795            |\n",
    "| F-score        |     0.5227              |   0.5256       |\n"
   ]
  },
  {
   "cell_type": "markdown",
   "metadata": {
    "colab_type": "text",
    "id": "ywlNf1pjGHAc"
   },
   "source": [
    "----\n",
    "## Feature Importance\n",
    "\n",
    "An important task when performing supervised learning on a dataset  is determining which features provide the most predictive power. By focusing on the relationship between only a few crucial features and the target label we simplify our understanding of the phenomenon, which is most always a useful thing to do. In the case of this project, that means we wish to identify a small number of features that most strongly predict whether a project will succeed or not."
   ]
  },
  {
   "cell_type": "code",
   "execution_count": 20,
   "metadata": {
    "colab": {
     "base_uri": "https://localhost:8080/",
     "height": 423
    },
    "colab_type": "code",
    "id": "c-XTUTsRGHAf",
    "outputId": "a121a48b-8f2c-4f40-b585-6fea1b24adbe"
   },
   "outputs": [
    {
     "data": {
      "image/png": "[encoded data removed]",
      "text/plain": [
       "<matplotlib.figure.Figure at 0x7fe8c7172400>"
      ]
     },
     "metadata": {
      "needs_background": "light"
     },
     "output_type": "display_data"
    }
   ],
   "source": [
    "# Import a supervised learning model that has 'feature_importances_'\n",
    "from sklearn.ensemble import AdaBoostClassifier\n",
    "\n",
    "# Train the supervised model on the training set using .fit(X_train, y_train)\n",
    "model = AdaBoostClassifier(random_state = 1)\n",
    "model.fit(X_train, y_train)\n",
    "\n",
    "# Extract the feature importances using .feature_importances_ \n",
    "importances = model.feature_importances_\n",
    "\n",
    "# Plot\n",
    "vs.feature_plot(importances, X_train, y_train)"
   ]
  },
  {
   "cell_type": "code",
   "execution_count": 21,
   "metadata": {},
   "outputs": [
    {
     "name": "stdout",
     "output_type": "stream",
     "text": [
      "['days' 'main_category_Technology' 'category_Country & Folk'\n",
      " 'main_category_Music' 'category_DIY Electronics']\n"
     ]
    }
   ],
   "source": [
    "indices = np.argsort(importances)[::-1]\n",
    "columns = X_train.columns.values[indices[:5]]\n",
    "\n",
    "print(columns)"
   ]
  },
  {
   "cell_type": "code",
   "execution_count": null,
   "metadata": {
    "colab": {},
    "colab_type": "code",
    "id": "YW-qpraCGHAn",
    "outputId": "ace19a4c-f0c5-43a7-8244-28ecee7b996a"
   },
   "outputs": [],
   "source": [
    "!!jupyter nbconvert *.ipynb"
   ]
  }
 ],
 "metadata": {
  "colab": {
   "name": "Kickstarter.ipynb",
   "provenance": [],
   "toc_visible": true,
   "version": "0.3.2"
  },
  "kernelspec": {
   "display_name": "Python 3",
   "language": "python",
   "name": "python3"
  },
  "language_info": {
   "codemirror_mode": {
    "name": "ipython",
    "version": 3
   },
   "file_extension": ".py",
   "mimetype": "text/x-python",
   "name": "python",
   "nbconvert_exporter": "python",
   "pygments_lexer": "ipython3",
   "version": "3.6.3"
  }
 },
 "nbformat": 4,
 "nbformat_minor": 1
}
